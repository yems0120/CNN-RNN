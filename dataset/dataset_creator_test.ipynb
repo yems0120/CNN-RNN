{
 "cells": [
  {
   "cell_type": "code",
   "execution_count": 1,
   "metadata": {},
   "outputs": [],
   "source": [
    "alpha = 1/2.5\n",
    "alpha = 1-alpha "
   ]
  },
  {
   "cell_type": "code",
   "execution_count": 2,
   "metadata": {},
   "outputs": [],
   "source": [
    "import numpy as np\n",
    "\n",
    "data_filepath1 = './dataset/DS01/'\n",
    "data_filepath2 = './dataset/DS03/'\n",
    "data_filepath3 = './dataset/DS04/'\n",
    "data_filepath4 = './dataset/DS05/'\n",
    "data_filepath5 = './dataset/DS06/'\n",
    "data_filepath6 = './dataset/DS07/'\n",
    "data_filepath7 = './dataset/DS08/'\n",
    "data_filepaths = [data_filepath1, data_filepath2, data_filepath3, data_filepath4, data_filepath5, data_filepath6, data_filepath7]\n",
    "\n",
    "# filename1 = 'Samples_whole/Unit1_win50_str50_smp10.npz'\n",
    "# filename2 = 'Samples_whole/Unit2_win50_str50_smp10.npz'\n",
    "# filename3 = 'Samples_whole/Unit3_win50_str50_smp10.npz'\n",
    "# filename4 = 'Samples_whole/Unit4_win50_str50_smp10.npz'\n",
    "# filename5 = 'Samples_whole/Unit5_win50_str50_smp10.npz'\n",
    "# filename6 = 'Samples_whole/Unit6_win50_str50_smp10.npz'\n",
    "# filename7 = 'Samples_whole/Unit7_win50_str50_smp10.npz'\n",
    "# filename8 = 'Samples_whole/Unit8_win50_str50_smp10.npz'\n",
    "filename9 = 'Samples_whole/Unit9_win50_str50_smp10.npz' \n",
    "filename10 = 'Samples_whole/Unit10_win50_str50_smp10.npz'       \n",
    "# filenames = [filename1, filename2, filename3, filename4, filename5, filename6, filename7, filename8, filename9, filename10] \n",
    "filenames = [filename9, filename10]         \n",
    "\n",
    "Sample_list = []\n",
    "RUL_list = []\n",
    "mode_list = []\n",
    "len_data = len(data_filepaths)\n",
    "\n",
    "for num_data, data_filepath in enumerate(data_filepaths):\n",
    "    data_filepath = data_filepaths[num_data] ## num_data = 0\n",
    "\n",
    "    Sample_data = []\n",
    "    RUL_data = []\n",
    "    Sample_data_health = []\n",
    "    RUL_data_health = []\n",
    "\n",
    "    for num_file, filename in enumerate(filenames):\n",
    "        dataset = np.load(data_filepath+filename)\n",
    "        x = dataset['sample']\n",
    "        x = x.swapaxes(0, 2)\n",
    "        Sample = x[:, :20, :]\n",
    "        Health = x[:, 20, -1]  # 1, health status; -1, non-health status\n",
    "        RUL = dataset['label']\n",
    "        \n",
    "        Sample_failure1 = Sample[Health==-1, :, :]\n",
    "        failure_size = Sample_failure1.shape[0]*alpha\n",
    "        failure_size = round(failure_size)  \n",
    "        Sample_data.append(Sample_failure1[-failure_size:])     \n",
    "        RUL_failure1 = RUL[Health==-1]\n",
    "        RUL_data.append(RUL_failure1[-failure_size:])\n",
    "        \n",
    "        Sample_health1 = Sample[Health==1, :, :]\n",
    "        health_size = Sample_health1.shape[0]*alpha\n",
    "        health_size = round(health_size)    \n",
    "        Sample_data_health.append(Sample_health1[:health_size])       \n",
    "        RUL_health1 = RUL[Health==1]\n",
    "        RUL_data_health.append(RUL_health1[:health_size])\n",
    "        \n",
    "    Sample_data = np.concatenate(Sample_data, axis=0)\n",
    "    RUL_data = np.concatenate(RUL_data, axis=0)     \n",
    "    mode_data = np.full(RUL_data.shape[0], num_data)  ## num_data = 0\n",
    "    Sample_list.append(Sample_data)\n",
    "    RUL_list.append(RUL_data)\n",
    "    mode_list.append(mode_data) \n",
    "\n",
    "    Sample_data_health = np.concatenate(Sample_data_health, axis=0)\n",
    "    RUL_data_health = np.concatenate(RUL_data_health, axis=0) \n",
    "    mode_data_health = np.full(RUL_data_health.shape[0], num_data+len_data)  ##health_mode = 0+7      \n",
    "    Sample_list.append(Sample_data_health)\n",
    "    RUL_list.append(RUL_data_health)\n",
    "    mode_list.append(mode_data_health)  \n"
   ]
  },
  {
   "cell_type": "code",
   "execution_count": 3,
   "metadata": {},
   "outputs": [
    {
     "name": "stdout",
     "output_type": "stream",
     "text": [
      "failure\n",
      "(1358,)\n",
      "(1086,)\n",
      "(1827,)\n",
      "(1176,)\n",
      "(1233,)\n",
      "(1662,)\n",
      "(574,)\n",
      "health\n",
      "(493,)\n",
      "(492,)\n",
      "(481,)\n",
      "(536,)\n",
      "(479,)\n",
      "(536,)\n",
      "(309,)\n"
     ]
    }
   ],
   "source": [
    "print('failure')\n",
    "# print(Sample_list[0].shape)\n",
    "# print(RUL_list[0].shape)\n",
    "print(mode_list[0].shape) \n",
    "print(mode_list[2].shape)\n",
    "print(mode_list[4].shape)\n",
    "print(mode_list[6].shape)\n",
    "print(mode_list[8].shape)\n",
    "print(mode_list[10].shape)\n",
    "print(mode_list[12].shape)     \n",
    "\n",
    "print('health')\n",
    "# print(Sample_list[1].shape)\n",
    "# print(RUL_list[1].shape)   \n",
    "print(mode_list[1].shape) \n",
    "print(mode_list[3].shape)\n",
    "print(mode_list[5].shape)\n",
    "print(mode_list[7].shape)\n",
    "print(mode_list[9].shape)\n",
    "print(mode_list[11].shape)\n",
    "print(mode_list[13].shape)"
   ]
  },
  {
   "cell_type": "code",
   "execution_count": 4,
   "metadata": {},
   "outputs": [],
   "source": [
    "Sample_data_test = np.concatenate(Sample_list, axis=0)\n",
    "RUL_data_test = np.concatenate(RUL_list, axis=0)\n",
    "failure_data_test = np.concatenate(mode_list, axis=0)"
   ]
  },
  {
   "cell_type": "code",
   "execution_count": 5,
   "metadata": {},
   "outputs": [],
   "source": [
    "# Save data\n",
    "np.save('./dataset/data/2.5/Sample_data_test.npy', Sample_data_test)\n",
    "np.save('./dataset/data/2.5/RUL_data_test.npy', RUL_data_test)\n",
    "np.save('./dataset/data/2.5/failure_data_test.npy', failure_data_test)"
   ]
  }
 ],
 "metadata": {
  "kernelspec": {
   "display_name": "dl_torch",
   "language": "python",
   "name": "python3"
  },
  "language_info": {
   "codemirror_mode": {
    "name": "ipython",
    "version": 3
   },
   "file_extension": ".py",
   "mimetype": "text/x-python",
   "name": "python",
   "nbconvert_exporter": "python",
   "pygments_lexer": "ipython3",
   "version": "3.10.13"
  }
 },
 "nbformat": 4,
 "nbformat_minor": 2
}
